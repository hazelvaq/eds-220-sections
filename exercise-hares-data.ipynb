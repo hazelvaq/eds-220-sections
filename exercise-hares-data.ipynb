{
 "cells": [
  {
   "cell_type": "markdown",
   "id": "35dd7032-4850-4520-bb37-93d8930fcf17",
   "metadata": {},
   "source": [
    "# Archive Exploration\n",
    "This data is a collection of snowshoe hares population\n",
    "from 1999 to 2012. This includes information on their sex, weight,\n",
    "ears, hind and etc. \n",
    "This does not contain sensitive data.\n",
    "Yes there is publication associated with this data\n",
    "Kielland, K., F.S. Chapin, R.W. Ruess, and Bonanza Creek LTER. 2017.\n",
    "Snowshoe hare physical data in Bonanza Creek Experimental Forest: \n",
    "    1999-Present ver 22. Environmental Data Initiative. \n",
    "    https://doi.org/10.6073/pasta/03dce4856d79b91557d8e6ce2cbcdc14 (Accessed 2023-10-19).\n",
    "\n",
    "![snowshoehare](https://upload.wikimedia.org/wikipedia/commons/thumb/8/8a/SNOWSHOE_HARE_%28Lepus_americanus%29_%285-28-2015%29_quoddy_head%2C_washington_co%2C_maine_-01_%2818988734889%29.jpg/1089px-SNOWSHOE_HARE_%28Lepus_americanus%29_%285-28-2015%29_quoddy_head%2C_washington_co%2C_maine_-01_%2818988734889%29.jpg?20170313021652)"
   ]
  },
  {
   "cell_type": "markdown",
   "id": "e6585377-8fa5-4e3b-b5a0-317a0f28f901",
   "metadata": {},
   "source": [
    "## Data Loading"
   ]
  },
  {
   "cell_type": "code",
   "execution_count": 5,
   "id": "46f900fa-d972-43ae-8944-24b5a5cbbe7f",
   "metadata": {
    "tags": []
   },
   "outputs": [
    {
     "name": "stdout",
     "output_type": "stream",
     "text": [
      "/usr/bin/sh: 1: Syntax error: word unexpected (expecting \")\")\n"
     ]
    }
   ],
   "source": [
    "import pandas as pd\n"
   ]
  }
 ],
 "metadata": {
  "kernelspec": {
   "display_name": "Anaconda 3 (Base)",
   "language": "python",
   "name": "base"
  },
  "language_info": {
   "codemirror_mode": {
    "name": "ipython",
    "version": 3
   },
   "file_extension": ".py",
   "mimetype": "text/x-python",
   "name": "python",
   "nbconvert_exporter": "python",
   "pygments_lexer": "ipython3",
   "version": "3.9.13"
  }
 },
 "nbformat": 4,
 "nbformat_minor": 5
}
